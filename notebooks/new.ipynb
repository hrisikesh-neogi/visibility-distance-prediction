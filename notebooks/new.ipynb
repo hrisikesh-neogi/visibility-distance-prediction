{
 "cells": [
  {
   "cell_type": "code",
   "execution_count": 1,
   "metadata": {},
   "outputs": [],
   "source": [
    "import os \n",
    "os.chdir(\"..\")"
   ]
  },
  {
   "cell_type": "code",
   "execution_count": 2,
   "metadata": {},
   "outputs": [
    {
     "data": {
      "text/plain": [
       "16"
      ]
     },
     "execution_count": 2,
     "metadata": {},
     "output_type": "execute_result"
    }
   ],
   "source": [
    "from src.data_access.visibility_data import VisibilityData\n",
    "\n",
    "visi = VisibilityData(\n",
    "    database_name= \"visibility\"\n",
    ")\n",
    "\n",
    "len(visi.get_collection_names())"
   ]
  },
  {
   "cell_type": "code",
   "execution_count": 2,
   "metadata": {},
   "outputs": [
    {
     "data": {
      "text/plain": [
       "'artifacts\\\\data_ingestion'"
      ]
     },
     "execution_count": 2,
     "metadata": {},
     "output_type": "execute_result"
    }
   ],
   "source": [
    "from src.components.data_ingestion import DataIngestion\n",
    "\n",
    "data_ings = DataIngestion()\n",
    "data_ings.initiate_data_ingestion()"
   ]
  },
  {
   "cell_type": "code",
   "execution_count": 4,
   "metadata": {},
   "outputs": [
    {
     "data": {
      "text/plain": [
       "'artifacts\\\\data_validation\\\\validated'"
      ]
     },
     "execution_count": 4,
     "metadata": {},
     "output_type": "execute_result"
    }
   ],
   "source": [
    "raw_dir = r'artifacts\\\\data_ingestion'\n",
    "\n",
    "from src.components.data_validation import DataValidation\n",
    "\n",
    "dv = DataValidation(raw_data_store_dir=raw_dir)\n",
    "dv.initiate_data_validation()"
   ]
  },
  {
   "cell_type": "code",
   "execution_count": 5,
   "metadata": {},
   "outputs": [
    {
     "name": "stdout",
     "output_type": "stream",
     "text": [
      "DataClusteringConfig(bucket_name='visibility-prediction', s3_model_key_path='clustering_model.pkl', clustering_dir='training_artifacts\\\\04_24_2023_18_59_33\\\\data_clustering', clustered_train_data_dir='training_artifacts\\\\04_24_2023_18_59_33\\\\data_clustering\\\\clustered_data\\\\clustered_train.csv', clustered_test_data_dir='training_artifacts\\\\04_24_2023_18_59_33\\\\data_clustering\\\\clustered_data\\\\clustered_test.csv', trained_clustering_model_file_path='training_artifacts\\\\04_24_2023_18_59_33\\\\data_clustering\\\\trained_clustering_model\\\\clustering_model.pkl', train_test_split_ratio=0.2)\n"
     ]
    }
   ],
   "source": [
    "from src.entity.config_entity import DataClusteringConfig\n",
    "\n",
    "data_v = DataClusteringConfig()\n",
    "print(data_v)\n"
   ]
  },
  {
   "cell_type": "code",
   "execution_count": 2,
   "metadata": {},
   "outputs": [
    {
     "data": {
      "text/html": [
       "<div>\n",
       "<style scoped>\n",
       "    .dataframe tbody tr th:only-of-type {\n",
       "        vertical-align: middle;\n",
       "    }\n",
       "\n",
       "    .dataframe tbody tr th {\n",
       "        vertical-align: top;\n",
       "    }\n",
       "\n",
       "    .dataframe thead th {\n",
       "        text-align: right;\n",
       "    }\n",
       "</style>\n",
       "<table border=\"1\" class=\"dataframe\">\n",
       "  <thead>\n",
       "    <tr style=\"text-align: right;\">\n",
       "      <th></th>\n",
       "      <th>DATE</th>\n",
       "      <th>VISIBILITY</th>\n",
       "      <th>DRYBULBTEMPF</th>\n",
       "      <th>WETBULBTEMPF</th>\n",
       "      <th>DewPointTempF</th>\n",
       "      <th>RelativeHumidity</th>\n",
       "      <th>WindSpeed</th>\n",
       "      <th>WindDirection</th>\n",
       "      <th>StationPressure</th>\n",
       "      <th>SeaLevelPressure</th>\n",
       "      <th>Precip</th>\n",
       "    </tr>\n",
       "  </thead>\n",
       "  <tbody>\n",
       "    <tr>\n",
       "      <th>0</th>\n",
       "      <td>2010-01-01 00:51:00</td>\n",
       "      <td>6.0</td>\n",
       "      <td>33</td>\n",
       "      <td>32</td>\n",
       "      <td>31</td>\n",
       "      <td>92</td>\n",
       "      <td>0</td>\n",
       "      <td>0</td>\n",
       "      <td>29.97</td>\n",
       "      <td>29.99</td>\n",
       "      <td>0.01</td>\n",
       "    </tr>\n",
       "    <tr>\n",
       "      <th>1</th>\n",
       "      <td>2010-01-01 01:51:00</td>\n",
       "      <td>6.0</td>\n",
       "      <td>33</td>\n",
       "      <td>33</td>\n",
       "      <td>32</td>\n",
       "      <td>96</td>\n",
       "      <td>0</td>\n",
       "      <td>0</td>\n",
       "      <td>29.97</td>\n",
       "      <td>29.99</td>\n",
       "      <td>0.02</td>\n",
       "    </tr>\n",
       "    <tr>\n",
       "      <th>2</th>\n",
       "      <td>2010-01-01 02:51:00</td>\n",
       "      <td>5.0</td>\n",
       "      <td>33</td>\n",
       "      <td>33</td>\n",
       "      <td>32</td>\n",
       "      <td>96</td>\n",
       "      <td>0</td>\n",
       "      <td>0</td>\n",
       "      <td>29.97</td>\n",
       "      <td>29.99</td>\n",
       "      <td>0.02</td>\n",
       "    </tr>\n",
       "    <tr>\n",
       "      <th>3</th>\n",
       "      <td>2010-01-01 03:51:00</td>\n",
       "      <td>5.0</td>\n",
       "      <td>33</td>\n",
       "      <td>33</td>\n",
       "      <td>32</td>\n",
       "      <td>96</td>\n",
       "      <td>0</td>\n",
       "      <td>0</td>\n",
       "      <td>29.95</td>\n",
       "      <td>29.97</td>\n",
       "      <td>0.02</td>\n",
       "    </tr>\n",
       "    <tr>\n",
       "      <th>4</th>\n",
       "      <td>2010-01-01 04:51:00</td>\n",
       "      <td>5.0</td>\n",
       "      <td>33</td>\n",
       "      <td>32</td>\n",
       "      <td>31</td>\n",
       "      <td>92</td>\n",
       "      <td>0</td>\n",
       "      <td>0</td>\n",
       "      <td>29.93</td>\n",
       "      <td>29.96</td>\n",
       "      <td>0.02</td>\n",
       "    </tr>\n",
       "    <tr>\n",
       "      <th>...</th>\n",
       "      <td>...</td>\n",
       "      <td>...</td>\n",
       "      <td>...</td>\n",
       "      <td>...</td>\n",
       "      <td>...</td>\n",
       "      <td>...</td>\n",
       "      <td>...</td>\n",
       "      <td>...</td>\n",
       "      <td>...</td>\n",
       "      <td>...</td>\n",
       "      <td>...</td>\n",
       "    </tr>\n",
       "    <tr>\n",
       "      <th>6251</th>\n",
       "      <td>2018-07-27 18:51:00</td>\n",
       "      <td>10.0</td>\n",
       "      <td>76</td>\n",
       "      <td>73</td>\n",
       "      <td>72</td>\n",
       "      <td>88</td>\n",
       "      <td>3</td>\n",
       "      <td>230</td>\n",
       "      <td>30.00</td>\n",
       "      <td>30.02</td>\n",
       "      <td>0.00</td>\n",
       "    </tr>\n",
       "    <tr>\n",
       "      <th>6252</th>\n",
       "      <td>2018-07-27 19:51:00</td>\n",
       "      <td>4.0</td>\n",
       "      <td>69</td>\n",
       "      <td>69</td>\n",
       "      <td>69</td>\n",
       "      <td>100</td>\n",
       "      <td>13</td>\n",
       "      <td>40</td>\n",
       "      <td>29.99</td>\n",
       "      <td>30.01</td>\n",
       "      <td>1.16</td>\n",
       "    </tr>\n",
       "    <tr>\n",
       "      <th>6253</th>\n",
       "      <td>2018-07-27 20:51:00</td>\n",
       "      <td>10.0</td>\n",
       "      <td>71</td>\n",
       "      <td>70</td>\n",
       "      <td>70</td>\n",
       "      <td>96</td>\n",
       "      <td>0</td>\n",
       "      <td>0</td>\n",
       "      <td>30.02</td>\n",
       "      <td>30.04</td>\n",
       "      <td>0.01</td>\n",
       "    </tr>\n",
       "    <tr>\n",
       "      <th>6254</th>\n",
       "      <td>2018-07-27 21:51:00</td>\n",
       "      <td>10.0</td>\n",
       "      <td>72</td>\n",
       "      <td>71</td>\n",
       "      <td>70</td>\n",
       "      <td>94</td>\n",
       "      <td>5</td>\n",
       "      <td>50</td>\n",
       "      <td>30.00</td>\n",
       "      <td>30.02</td>\n",
       "      <td>0.01</td>\n",
       "    </tr>\n",
       "    <tr>\n",
       "      <th>6255</th>\n",
       "      <td>2018-07-27 22:51:00</td>\n",
       "      <td>10.0</td>\n",
       "      <td>72</td>\n",
       "      <td>71</td>\n",
       "      <td>71</td>\n",
       "      <td>97</td>\n",
       "      <td>0</td>\n",
       "      <td>0</td>\n",
       "      <td>30.01</td>\n",
       "      <td>30.03</td>\n",
       "      <td>0.00</td>\n",
       "    </tr>\n",
       "  </tbody>\n",
       "</table>\n",
       "<p>75083 rows × 11 columns</p>\n",
       "</div>"
      ],
      "text/plain": [
       "                     DATE  VISIBILITY  DRYBULBTEMPF  WETBULBTEMPF   \n",
       "0     2010-01-01 00:51:00         6.0            33            32  \\\n",
       "1     2010-01-01 01:51:00         6.0            33            33   \n",
       "2     2010-01-01 02:51:00         5.0            33            33   \n",
       "3     2010-01-01 03:51:00         5.0            33            33   \n",
       "4     2010-01-01 04:51:00         5.0            33            32   \n",
       "...                   ...         ...           ...           ...   \n",
       "6251  2018-07-27 18:51:00        10.0            76            73   \n",
       "6252  2018-07-27 19:51:00         4.0            69            69   \n",
       "6253  2018-07-27 20:51:00        10.0            71            70   \n",
       "6254  2018-07-27 21:51:00        10.0            72            71   \n",
       "6255  2018-07-27 22:51:00        10.0            72            71   \n",
       "\n",
       "      DewPointTempF  RelativeHumidity  WindSpeed  WindDirection   \n",
       "0                31                92          0              0  \\\n",
       "1                32                96          0              0   \n",
       "2                32                96          0              0   \n",
       "3                32                96          0              0   \n",
       "4                31                92          0              0   \n",
       "...             ...               ...        ...            ...   \n",
       "6251             72                88          3            230   \n",
       "6252             69               100         13             40   \n",
       "6253             70                96          0              0   \n",
       "6254             70                94          5             50   \n",
       "6255             71                97          0              0   \n",
       "\n",
       "      StationPressure  SeaLevelPressure  Precip  \n",
       "0               29.97             29.99    0.01  \n",
       "1               29.97             29.99    0.02  \n",
       "2               29.97             29.99    0.02  \n",
       "3               29.95             29.97    0.02  \n",
       "4               29.93             29.96    0.02  \n",
       "...               ...               ...     ...  \n",
       "6251            30.00             30.02    0.00  \n",
       "6252            29.99             30.01    1.16  \n",
       "6253            30.02             30.04    0.01  \n",
       "6254            30.00             30.02    0.01  \n",
       "6255            30.01             30.03    0.00  \n",
       "\n",
       "[75083 rows x 11 columns]"
      ]
     },
     "execution_count": 2,
     "metadata": {},
     "output_type": "execute_result"
    }
   ],
   "source": [
    "import os\n",
    "valid = os.path.join(\"artifacts\",'data_validation','validated')\n",
    "\n",
    "from src.components.data_clustering import DataClustering\n",
    "\n",
    "cls = DataClustering(valid_data_dir= valid)\n",
    "\n",
    "cls.get_merged_batch_data(valid)"
   ]
  },
  {
   "cell_type": "code",
   "execution_count": null,
   "metadata": {},
   "outputs": [],
   "source": []
  },
  {
   "cell_type": "code",
   "execution_count": null,
   "metadata": {},
   "outputs": [],
   "source": []
  }
 ],
 "metadata": {
  "kernelspec": {
   "display_name": "Python 3",
   "language": "python",
   "name": "python3"
  },
  "language_info": {
   "codemirror_mode": {
    "name": "ipython",
    "version": 3
   },
   "file_extension": ".py",
   "mimetype": "text/x-python",
   "name": "python",
   "nbconvert_exporter": "python",
   "pygments_lexer": "ipython3",
   "version": "3.8.16"
  },
  "orig_nbformat": 4
 },
 "nbformat": 4,
 "nbformat_minor": 2
}
