{
 "cells": [
  {
   "cell_type": "code",
   "execution_count": 1,
   "metadata": {},
   "outputs": [],
   "source": [
    "import os \n",
    "os.chdir(\"..\")"
   ]
  },
  {
   "cell_type": "code",
   "execution_count": 2,
   "metadata": {},
   "outputs": [
    {
     "data": {
      "text/plain": [
       "16"
      ]
     },
     "execution_count": 2,
     "metadata": {},
     "output_type": "execute_result"
    }
   ],
   "source": [
    "from src.data_access.visibility_data import VisibilityData\n",
    "\n",
    "visi = VisibilityData(\n",
    "    database_name= \"visibility\"\n",
    ")\n",
    "\n",
    "len(visi.get_collection_names())"
   ]
  },
  {
   "cell_type": "code",
   "execution_count": 2,
   "metadata": {},
   "outputs": [
    {
     "data": {
      "text/plain": [
       "'artifacts\\\\data_ingestion'"
      ]
     },
     "execution_count": 2,
     "metadata": {},
     "output_type": "execute_result"
    }
   ],
   "source": [
    "from src.components.data_ingestion import DataIngestion\n",
    "\n",
    "data_ings = DataIngestion()\n",
    "data_ings.initiate_data_ingestion()"
   ]
  },
  {
   "cell_type": "code",
   "execution_count": 4,
   "metadata": {},
   "outputs": [
    {
     "data": {
      "text/plain": [
       "'artifacts\\\\data_validation\\\\validated'"
      ]
     },
     "execution_count": 4,
     "metadata": {},
     "output_type": "execute_result"
    }
   ],
   "source": [
    "raw_dir = r'artifacts\\\\data_ingestion'\n",
    "\n",
    "from src.components.data_validation import DataValidation\n",
    "\n",
    "dv = DataValidation(raw_data_store_dir=raw_dir)\n",
    "dv.initiate_data_validation()"
   ]
  },
  {
   "cell_type": "code",
   "execution_count": 2,
   "metadata": {},
   "outputs": [
    {
     "name": "stdout",
     "output_type": "stream",
     "text": [
      "DataTransformationConfig(data_transformation_dir='training_artifacts\\\\04_25_2023_11_41_33\\\\data_transformation', transformed_train_file_path='training_artifacts\\\\04_25_2023_11_41_33\\\\data_transformation\\\\transformed\\\\train.csv', transformed_test_file_path='training_artifacts\\\\04_25_2023_11_41_33\\\\data_transformation\\\\transformed\\\\test.csv', transformed_object_file_path='training_artifacts\\\\04_25_2023_11_41_33\\\\data_transformation\\\\transformed_object\\\\preprocessing.pkl')\n"
     ]
    }
   ],
   "source": [
    "from src.entity.config_entity import DataTransformationConfig\n",
    "\n",
    "data_v = DataTransformationConfig()\n",
    "print(data_v)\n"
   ]
  },
  {
   "cell_type": "code",
   "execution_count": 1,
   "metadata": {},
   "outputs": [
    {
     "name": "stderr",
     "output_type": "stream",
     "text": [
      "d:\\personal-repo-projects\\visibility\\env\\lib\\site-packages\\sklearn\\cluster\\_kmeans.py:870: FutureWarning: The default value of `n_init` will change from 10 to 'auto' in 1.4. Set the value of `n_init` explicitly to suppress the warning\n",
      "  warnings.warn(\n",
      "d:\\personal-repo-projects\\visibility\\env\\lib\\site-packages\\sklearn\\cluster\\_kmeans.py:870: FutureWarning: The default value of `n_init` will change from 10 to 'auto' in 1.4. Set the value of `n_init` explicitly to suppress the warning\n",
      "  warnings.warn(\n",
      "d:\\personal-repo-projects\\visibility\\env\\lib\\site-packages\\sklearn\\cluster\\_kmeans.py:870: FutureWarning: The default value of `n_init` will change from 10 to 'auto' in 1.4. Set the value of `n_init` explicitly to suppress the warning\n",
      "  warnings.warn(\n",
      "d:\\personal-repo-projects\\visibility\\env\\lib\\site-packages\\sklearn\\cluster\\_kmeans.py:870: FutureWarning: The default value of `n_init` will change from 10 to 'auto' in 1.4. Set the value of `n_init` explicitly to suppress the warning\n",
      "  warnings.warn(\n",
      "d:\\personal-repo-projects\\visibility\\env\\lib\\site-packages\\sklearn\\cluster\\_kmeans.py:870: FutureWarning: The default value of `n_init` will change from 10 to 'auto' in 1.4. Set the value of `n_init` explicitly to suppress the warning\n",
      "  warnings.warn(\n",
      "d:\\personal-repo-projects\\visibility\\env\\lib\\site-packages\\sklearn\\cluster\\_kmeans.py:870: FutureWarning: The default value of `n_init` will change from 10 to 'auto' in 1.4. Set the value of `n_init` explicitly to suppress the warning\n",
      "  warnings.warn(\n",
      "d:\\personal-repo-projects\\visibility\\env\\lib\\site-packages\\sklearn\\cluster\\_kmeans.py:870: FutureWarning: The default value of `n_init` will change from 10 to 'auto' in 1.4. Set the value of `n_init` explicitly to suppress the warning\n",
      "  warnings.warn(\n",
      "d:\\personal-repo-projects\\visibility\\env\\lib\\site-packages\\sklearn\\cluster\\_kmeans.py:870: FutureWarning: The default value of `n_init` will change from 10 to 'auto' in 1.4. Set the value of `n_init` explicitly to suppress the warning\n",
      "  warnings.warn(\n",
      "d:\\personal-repo-projects\\visibility\\env\\lib\\site-packages\\sklearn\\cluster\\_kmeans.py:870: FutureWarning: The default value of `n_init` will change from 10 to 'auto' in 1.4. Set the value of `n_init` explicitly to suppress the warning\n",
      "  warnings.warn(\n",
      "d:\\personal-repo-projects\\visibility\\env\\lib\\site-packages\\sklearn\\cluster\\_kmeans.py:870: FutureWarning: The default value of `n_init` will change from 10 to 'auto' in 1.4. Set the value of `n_init` explicitly to suppress the warning\n",
      "  warnings.warn(\n",
      "d:\\personal-repo-projects\\visibility\\env\\lib\\site-packages\\sklearn\\cluster\\_kmeans.py:870: FutureWarning: The default value of `n_init` will change from 10 to 'auto' in 1.4. Set the value of `n_init` explicitly to suppress the warning\n",
      "  warnings.warn(\n"
     ]
    },
    {
     "data": {
      "text/plain": [
       "('artifacts\\\\data_clustering\\\\clustered_train.csv',\n",
       " 'artifacts\\\\data_clustering\\\\clustered_test.csv',\n",
       " 'artifacts\\\\data_clustering\\\\saved_clustering_model\\\\clustering_model.pkl')"
      ]
     },
     "execution_count": 1,
     "metadata": {},
     "output_type": "execute_result"
    }
   ],
   "source": [
    "\n",
    "import os \n",
    "os.chdir(\"..\")\n",
    "valid = os.path.join(\"artifacts\",'data_validation','validated')\n",
    "\n",
    "from src.components.data_clustering import DataClustering\n",
    "\n",
    "cls = DataClustering(valid_data_dir= valid)\n",
    "\n",
    "cls.initiate_clustering()"
   ]
  },
  {
   "cell_type": "code",
   "execution_count": 1,
   "metadata": {},
   "outputs": [],
   "source": [
    "import os \n",
    "os.chdir(\"..\")\n",
    "\n",
    "\n",
    "clus = ('artifacts\\\\data_clustering\\\\clustered_train.csv',\n",
    " 'artifacts\\\\data_clustering\\\\clustered_test.csv',\n",
    " 'artifacts\\\\data_clustering\\\\saved_clustering_model\\\\clustering_model.pkl')\n",
    "\n",
    "from src.components.data_transformation import DataTransformation\n",
    "\n",
    "dt = DataTransformation(\n",
    "    clustered_train_data_path= clus[0],\n",
    "    clustered_test_data_path= clus[1]\n",
    ")\n",
    "\n",
    "X_train, y_train, X_test, y_test,transformed_object_file_path = dt.initiate_data_transformation()"
   ]
  },
  {
   "cell_type": "code",
   "execution_count": null,
   "metadata": {},
   "outputs": [],
   "source": []
  }
 ],
 "metadata": {
  "kernelspec": {
   "display_name": "Python 3",
   "language": "python",
   "name": "python3"
  },
  "language_info": {
   "codemirror_mode": {
    "name": "ipython",
    "version": 3
   },
   "file_extension": ".py",
   "mimetype": "text/x-python",
   "name": "python",
   "nbconvert_exporter": "python",
   "pygments_lexer": "ipython3",
   "version": "3.8.16"
  },
  "orig_nbformat": 4
 },
 "nbformat": 4,
 "nbformat_minor": 2
}
